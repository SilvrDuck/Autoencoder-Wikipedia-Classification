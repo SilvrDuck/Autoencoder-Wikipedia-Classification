{
 "cells": [
  {
   "cell_type": "markdown",
   "metadata": {},
   "source": [
    "# 02 – Autencoder adventures, different approach\n",
    "\n",
    "In this version, instead of feeding the autoencoder with very high dimensional documents, we represent them by the sum and the mean of their vectors. As we can see below, the general classification scores went up for all the methods, and especially for the autoencoder which is now closer to the other methods."
   ]
  },
  {
   "cell_type": "markdown",
   "metadata": {},
   "source": [
    "## Imports"
   ]
  },
  {
   "cell_type": "code",
   "execution_count": 1,
   "metadata": {},
   "outputs": [],
   "source": [
    "import helpers # some general functions for loading, writting and plotting stuff\n",
    "import re\n",
    "import pandas as pd\n",
    "import numpy as np"
   ]
  },
  {
   "cell_type": "code",
   "execution_count": 2,
   "metadata": {},
   "outputs": [
    {
     "name": "stderr",
     "output_type": "stream",
     "text": [
      "C:\\Users\\Thibault\\Anaconda3\\lib\\site-packages\\h5py\\__init__.py:36: FutureWarning: Conversion of the second argument of issubdtype from `float` to `np.floating` is deprecated. In future, it will be treated as `np.float64 == np.dtype(float).type`.\n",
      "  from ._conv import register_converters as _register_converters\n",
      "Using TensorFlow backend.\n"
     ]
    }
   ],
   "source": [
    "from keras.layers import Input, Dense, Embedding, Flatten\n",
    "from keras import regularizers\n",
    "from keras.models import Model, Sequential\n",
    "from keras.preprocessing.sequence import pad_sequences\n",
    "from keras.preprocessing.text import one_hot, Tokenizer"
   ]
  },
  {
   "cell_type": "code",
   "execution_count": 3,
   "metadata": {},
   "outputs": [],
   "source": [
    "from sklearn.model_selection import train_test_split\n",
    "from sklearn import preprocessing\n",
    "from sklearn.decomposition import PCA\n",
    "from sklearn.ensemble import RandomForestClassifier\n",
    "from sklearn.metrics import classification_report\n",
    "from sklearn.preprocessing import normalize"
   ]
  },
  {
   "cell_type": "markdown",
   "metadata": {},
   "source": [
    "## Some constants\n",
    "\n",
    "I decided to go with 32 as the dimension of the latent space since it gave the best classification results afterwards. I believe in concrete work this would greatly depend on the task."
   ]
  },
  {
   "cell_type": "code",
   "execution_count": 129,
   "metadata": {},
   "outputs": [],
   "source": [
    "LATENT_SPACE_DIM = 32\n",
    "MAX_WORDS = 1_000"
   ]
  },
  {
   "cell_type": "markdown",
   "metadata": {},
   "source": [
    "## Data preparation"
   ]
  },
  {
   "cell_type": "markdown",
   "metadata": {},
   "source": [
    "### Load data"
   ]
  },
  {
   "cell_type": "code",
   "execution_count": 92,
   "metadata": {},
   "outputs": [],
   "source": [
    "full_data = helpers.most_recent_dataset()"
   ]
  },
  {
   "cell_type": "code",
   "execution_count": 93,
   "metadata": {},
   "outputs": [],
   "source": [
    "# change this to vary subset size for testing\n",
    "data = full_data.sample(int(len(full_data) * 1))"
   ]
  },
  {
   "cell_type": "markdown",
   "metadata": {},
   "source": [
    "### Labels"
   ]
  },
  {
   "cell_type": "code",
   "execution_count": 94,
   "metadata": {},
   "outputs": [],
   "source": [
    "le = preprocessing.LabelEncoder()\n",
    "le.fit(data['label'])\n",
    "y = le.transform(data['label'])"
   ]
  },
  {
   "cell_type": "markdown",
   "metadata": {},
   "source": [
    "### Embedding\n",
    "\n",
    "Here we use a simple word2vec style approach. GloVe pretrained vectors could ameliorate the results."
   ]
  },
  {
   "cell_type": "code",
   "execution_count": 95,
   "metadata": {},
   "outputs": [],
   "source": [
    "docs = data['content']"
   ]
  },
  {
   "cell_type": "code",
   "execution_count": 96,
   "metadata": {},
   "outputs": [
    {
     "name": "stdout",
     "output_type": "stream",
     "text": [
      "Wall time: 14.7 s\n"
     ]
    }
   ],
   "source": [
    "%%time\n",
    "tk = Tokenizer()\n",
    "tk.fit_on_texts(docs)"
   ]
  },
  {
   "cell_type": "code",
   "execution_count": 97,
   "metadata": {},
   "outputs": [
    {
     "name": "stdout",
     "output_type": "stream",
     "text": [
      "Wall time: 11.5 s\n"
     ]
    }
   ],
   "source": [
    "%%time\n",
    "tk.num_words = MAX_WORDS\n",
    "docs_seq = tk.texts_to_sequences(docs)"
   ]
  },
  {
   "cell_type": "code",
   "execution_count": 98,
   "metadata": {},
   "outputs": [
    {
     "name": "stdout",
     "output_type": "stream",
     "text": [
      "Wall time: 1.86 s\n"
     ]
    }
   ],
   "source": [
    "%%time\n",
    "pad_len = int(pd.DataFrame([len(e) for e in docs_seq]).max())\n",
    "X_padded = pad_sequences(docs_seq, maxlen=pad_len, padding='post')"
   ]
  },
  {
   "cell_type": "code",
   "execution_count": 99,
   "metadata": {},
   "outputs": [
    {
     "name": "stderr",
     "output_type": "stream",
     "text": [
      "C:\\Users\\Thibault\\Anaconda3\\lib\\site-packages\\tensorflow\\python\\framework\\tensor_util.py:560: DeprecationWarning: The binary mode of fromstring is deprecated, as it behaves surprisingly on unicode inputs. Use frombuffer instead\n",
      "  return np.fromstring(tensor.tensor_content, dtype=dtype).reshape(shape)\n",
      "C:\\Users\\Thibault\\Anaconda3\\lib\\site-packages\\tensorflow\\python\\util\\tf_inspect.py:45: DeprecationWarning: inspect.getargspec() is deprecated, use inspect.signature() or inspect.getfullargspec()\n",
      "  if d.decorator_argspec is not None), _inspect.getargspec(target))\n"
     ]
    },
    {
     "name": "stdout",
     "output_type": "stream",
     "text": [
      "Wall time: 39.1 s\n"
     ]
    }
   ],
   "source": [
    "%%time\n",
    "model = Sequential()\n",
    "model.add(Embedding(input_dim=MAX_WORDS, output_dim=32, input_length=pad_len))\n",
    "model.compile('rmsprop', 'mse')\n",
    "\n",
    "X_full = model.predict(X_padded)"
   ]
  },
  {
   "cell_type": "code",
   "execution_count": 100,
   "metadata": {},
   "outputs": [
    {
     "data": {
      "text/plain": [
       "(8000, 19657, 32)"
      ]
     },
     "execution_count": 100,
     "metadata": {},
     "output_type": "execute_result"
    }
   ],
   "source": [
    "X_full.shape"
   ]
  },
  {
   "cell_type": "code",
   "execution_count": 101,
   "metadata": {},
   "outputs": [
    {
     "name": "stdout",
     "output_type": "stream",
     "text": [
      "Wall time: 40.5 s\n"
     ]
    }
   ],
   "source": [
    "%%time\n",
    "X_sum = np.sum(X_full, axis=1)"
   ]
  },
  {
   "cell_type": "code",
   "execution_count": 115,
   "metadata": {},
   "outputs": [
    {
     "name": "stdout",
     "output_type": "stream",
     "text": [
      "Wall time: 2min 35s\n"
     ]
    }
   ],
   "source": [
    "%%time\n",
    "X_median = np.median(X_full, axis=1)"
   ]
  },
  {
   "cell_type": "code",
   "execution_count": 103,
   "metadata": {},
   "outputs": [
    {
     "name": "stdout",
     "output_type": "stream",
     "text": [
      "Wall time: 40.4 s\n"
     ]
    }
   ],
   "source": [
    "%%time\n",
    "X_mean = np.mean(X_full, axis=1)"
   ]
  },
  {
   "cell_type": "code",
   "execution_count": 116,
   "metadata": {},
   "outputs": [
    {
     "name": "stdout",
     "output_type": "stream",
     "text": [
      "Wall time: 15.6 ms\n"
     ]
    }
   ],
   "source": [
    "%%time\n",
    "X = np.concatenate((X_sum, X_mean), axis=1)\n",
    "X = np.concatenate((X_mean, X), axis=1)"
   ]
  },
  {
   "cell_type": "code",
   "execution_count": 117,
   "metadata": {},
   "outputs": [],
   "source": [
    "X = preprocessing.normalize(X, axis=1)"
   ]
  },
  {
   "cell_type": "code",
   "execution_count": 118,
   "metadata": {},
   "outputs": [
    {
     "data": {
      "text/plain": [
       "(8000, 96)"
      ]
     },
     "execution_count": 118,
     "metadata": {},
     "output_type": "execute_result"
    }
   ],
   "source": [
    "X.shape"
   ]
  },
  {
   "cell_type": "markdown",
   "metadata": {},
   "source": [
    "## Autoencoder\n",
    "\n",
    "The actual autoencoder. I chosed to keep it shallow, without hidden layers, to iterate faster. Improvement on the architecture (ammount, type and size of the layers) would be at the core of further reaserch on this task."
   ]
  },
  {
   "cell_type": "code",
   "execution_count": 155,
   "metadata": {},
   "outputs": [
    {
     "name": "stderr",
     "output_type": "stream",
     "text": [
      "C:\\Users\\Thibault\\Anaconda3\\lib\\site-packages\\tensorflow\\python\\framework\\tensor_util.py:560: DeprecationWarning: The binary mode of fromstring is deprecated, as it behaves surprisingly on unicode inputs. Use frombuffer instead\n",
      "  return np.fromstring(tensor.tensor_content, dtype=dtype).reshape(shape)\n",
      "C:\\Users\\Thibault\\Anaconda3\\lib\\site-packages\\tensorflow\\python\\util\\tf_inspect.py:45: DeprecationWarning: inspect.getargspec() is deprecated, use inspect.signature() or inspect.getfullargspec()\n",
      "  if d.decorator_argspec is not None), _inspect.getargspec(target))\n"
     ]
    }
   ],
   "source": [
    "input_dim = X.shape[1]\n",
    "target_dim = LATENT_SPACE_DIM\n",
    "activation_type = 'tanh' # tried 'relu', but 'tanh' performs better\n",
    "\n",
    "\n",
    "### Architecture\n",
    "input_text = Input(shape=(input_dim,))\n",
    "encoded = Dense(64, activation=activation_type)(input_text)\n",
    "#encoded = Dense(32, activation=activation_type)(encoded)\n",
    "encoded_out = Dense(target_dim, activation=activation_type, \n",
    "                activity_regularizer=regularizers.l1(10e-5))(encoded) # constrain so that less neurons fire at the same time -> latent representations are sparser\n",
    "# \"latent space\"\n",
    "decoded = Dense(64, activation=activation_type)(encoded_out)\n",
    "#decoded = Dense(64, activation=activation_type)(decoded)\n",
    "decoded_out = Dense(input_dim, activation='sigmoid')(decoded)\n",
    "\n",
    "### Autoencoder\n",
    "autoencoder = Model(input_text, decoded_out)\n",
    "\n",
    "### Encoder\n",
    "encoder = Model(input_text, encoded_out)"
   ]
  },
  {
   "cell_type": "code",
   "execution_count": 156,
   "metadata": {},
   "outputs": [
    {
     "name": "stderr",
     "output_type": "stream",
     "text": [
      "C:\\Users\\Thibault\\Anaconda3\\lib\\site-packages\\tensorflow\\python\\util\\tf_inspect.py:45: DeprecationWarning: inspect.getargspec() is deprecated, use inspect.signature() or inspect.getfullargspec()\n",
      "  if d.decorator_argspec is not None), _inspect.getargspec(target))\n"
     ]
    },
    {
     "name": "stdout",
     "output_type": "stream",
     "text": [
      "_________________________________________________________________\n",
      "Layer (type)                 Output Shape              Param #   \n",
      "=================================================================\n",
      "input_13 (InputLayer)        (None, 96)                0         \n",
      "_________________________________________________________________\n",
      "dense_55 (Dense)             (None, 64)                6208      \n",
      "_________________________________________________________________\n",
      "dense_56 (Dense)             (None, 32)                2080      \n",
      "_________________________________________________________________\n",
      "dense_57 (Dense)             (None, 64)                2112      \n",
      "_________________________________________________________________\n",
      "dense_58 (Dense)             (None, 96)                6240      \n",
      "=================================================================\n",
      "Total params: 16,640\n",
      "Trainable params: 16,640\n",
      "Non-trainable params: 0\n",
      "_________________________________________________________________\n"
     ]
    }
   ],
   "source": [
    "# 'mse' performed better than 'binary_cross_entropy'\n",
    "autoencoder.compile(optimizer='adam', loss='mse', metrics=['accuracy'])\n",
    "autoencoder.summary()"
   ]
  },
  {
   "cell_type": "code",
   "execution_count": 157,
   "metadata": {},
   "outputs": [
    {
     "name": "stderr",
     "output_type": "stream",
     "text": [
      "C:\\Users\\Thibault\\Anaconda3\\lib\\site-packages\\tensorflow\\python\\util\\tf_inspect.py:45: DeprecationWarning: inspect.getargspec() is deprecated, use inspect.signature() or inspect.getfullargspec()\n",
      "  if d.decorator_argspec is not None), _inspect.getargspec(target))\n",
      "C:\\Users\\Thibault\\Anaconda3\\lib\\site-packages\\tensorflow\\python\\framework\\tensor_util.py:560: DeprecationWarning: The binary mode of fromstring is deprecated, as it behaves surprisingly on unicode inputs. Use frombuffer instead\n",
      "  return np.fromstring(tensor.tensor_content, dtype=dtype).reshape(shape)\n"
     ]
    },
    {
     "name": "stdout",
     "output_type": "stream",
     "text": [
      "Train on 6400 samples, validate on 1600 samples\n",
      "Epoch 1/50\n",
      "6400/6400 [==============================] - 1s 98us/step - loss: 0.2741 - acc: 0.0000e+00 - val_loss: 0.2497 - val_acc: 0.0000e+00\n",
      "Epoch 2/50\n",
      "6400/6400 [==============================] - 0s 20us/step - loss: 0.2334 - acc: 0.0000e+00 - val_loss: 0.2071 - val_acc: 0.0000e+00\n",
      "Epoch 3/50\n",
      "6400/6400 [==============================] - 0s 17us/step - loss: 0.1531 - acc: 3.1250e-04 - val_loss: 0.0968 - val_acc: 6.2500e-04\n",
      "Epoch 4/50\n",
      "6400/6400 [==============================] - 0s 17us/step - loss: 0.0789 - acc: 0.3200 - val_loss: 0.0621 - val_acc: 0.9969\n",
      "Epoch 5/50\n",
      "6400/6400 [==============================] - 0s 20us/step - loss: 0.0550 - acc: 0.9991 - val_loss: 0.0468 - val_acc: 0.9969\n",
      "Epoch 6/50\n",
      "6400/6400 [==============================] - 0s 17us/step - loss: 0.0434 - acc: 0.9991 - val_loss: 0.0387 - val_acc: 0.9969\n",
      "Epoch 7/50\n",
      "6400/6400 [==============================] - 0s 20us/step - loss: 0.0364 - acc: 0.9991 - val_loss: 0.0327 - val_acc: 0.9969\n",
      "Epoch 8/50\n",
      "6400/6400 [==============================] - 0s 17us/step - loss: 0.0309 - acc: 0.9991 - val_loss: 0.0279 - val_acc: 0.9969\n",
      "Epoch 9/50\n",
      "6400/6400 [==============================] - 0s 20us/step - loss: 0.0269 - acc: 0.9991 - val_loss: 0.0247 - val_acc: 0.9969\n",
      "Epoch 10/50\n",
      "6400/6400 [==============================] - 0s 17us/step - loss: 0.0235 - acc: 0.9991 - val_loss: 0.0215 - val_acc: 0.9969\n",
      "Epoch 11/50\n",
      "6400/6400 [==============================] - 0s 17us/step - loss: 0.0207 - acc: 0.9991 - val_loss: 0.0196 - val_acc: 0.9969\n",
      "Epoch 12/50\n",
      "6400/6400 [==============================] - 0s 17us/step - loss: 0.0185 - acc: 0.9991 - val_loss: 0.0170 - val_acc: 0.9969\n",
      "Epoch 13/50\n",
      "6400/6400 [==============================] - 0s 22us/step - loss: 0.0161 - acc: 0.9991 - val_loss: 0.0148 - val_acc: 0.9969\n",
      "Epoch 14/50\n",
      "6400/6400 [==============================] - 0s 17us/step - loss: 0.0141 - acc: 0.9991 - val_loss: 0.0131 - val_acc: 0.9969\n",
      "Epoch 15/50\n",
      "6400/6400 [==============================] - 0s 17us/step - loss: 0.0122 - acc: 0.9991 - val_loss: 0.0110 - val_acc: 0.9969\n",
      "Epoch 16/50\n",
      "6400/6400 [==============================] - 0s 17us/step - loss: 0.0106 - acc: 0.9991 - val_loss: 0.0101 - val_acc: 0.9969\n",
      "Epoch 17/50\n",
      "6400/6400 [==============================] - 0s 17us/step - loss: 0.0098 - acc: 0.9991 - val_loss: 0.0095 - val_acc: 0.9969\n",
      "Epoch 18/50\n",
      "6400/6400 [==============================] - 0s 17us/step - loss: 0.0090 - acc: 0.9991 - val_loss: 0.0087 - val_acc: 0.9969\n",
      "Epoch 19/50\n",
      "6400/6400 [==============================] - 0s 17us/step - loss: 0.0084 - acc: 0.9991 - val_loss: 0.0083 - val_acc: 0.9969\n",
      "Epoch 20/50\n",
      "6400/6400 [==============================] - 0s 17us/step - loss: 0.0082 - acc: 0.9991 - val_loss: 0.0078 - val_acc: 0.9969\n",
      "Epoch 21/50\n",
      "6400/6400 [==============================] - 0s 17us/step - loss: 0.0079 - acc: 0.9991 - val_loss: 0.0081 - val_acc: 0.9969\n",
      "Epoch 22/50\n",
      "6400/6400 [==============================] - 0s 17us/step - loss: 0.0080 - acc: 0.9991 - val_loss: 0.0077 - val_acc: 0.9969\n",
      "Epoch 23/50\n",
      "6400/6400 [==============================] - 0s 17us/step - loss: 0.0077 - acc: 0.9991 - val_loss: 0.0077 - val_acc: 0.9969\n",
      "Epoch 24/50\n",
      "6400/6400 [==============================] - 0s 17us/step - loss: 0.0075 - acc: 0.9991 - val_loss: 0.0074 - val_acc: 0.9969\n",
      "Epoch 25/50\n",
      "6400/6400 [==============================] - 0s 17us/step - loss: 0.0073 - acc: 0.9991 - val_loss: 0.0075 - val_acc: 0.9969\n",
      "Epoch 26/50\n",
      "6400/6400 [==============================] - 0s 17us/step - loss: 0.0074 - acc: 0.9991 - val_loss: 0.0074 - val_acc: 0.9969\n",
      "Epoch 27/50\n",
      "6400/6400 [==============================] - 0s 17us/step - loss: 0.0072 - acc: 0.9991 - val_loss: 0.0072 - val_acc: 0.9969\n",
      "Epoch 28/50\n",
      "6400/6400 [==============================] - 0s 17us/step - loss: 0.0073 - acc: 0.9991 - val_loss: 0.0072 - val_acc: 0.9969\n",
      "Epoch 29/50\n",
      "6400/6400 [==============================] - 0s 17us/step - loss: 0.0072 - acc: 0.9991 - val_loss: 0.0071 - val_acc: 0.9969\n",
      "Epoch 30/50\n",
      "6400/6400 [==============================] - 0s 17us/step - loss: 0.0072 - acc: 0.9991 - val_loss: 0.0071 - val_acc: 0.9969\n",
      "Epoch 31/50\n",
      "6400/6400 [==============================] - 0s 17us/step - loss: 0.0072 - acc: 0.9991 - val_loss: 0.0072 - val_acc: 0.9969\n",
      "Epoch 32/50\n",
      "6400/6400 [==============================] - 0s 17us/step - loss: 0.0071 - acc: 0.9991 - val_loss: 0.0070 - val_acc: 0.9969\n",
      "Epoch 33/50\n",
      "6400/6400 [==============================] - 0s 20us/step - loss: 0.0069 - acc: 0.9991 - val_loss: 0.0070 - val_acc: 0.9969\n",
      "Epoch 34/50\n",
      "6400/6400 [==============================] - 0s 17us/step - loss: 0.0070 - acc: 0.9991 - val_loss: 0.0070 - val_acc: 0.9969\n",
      "Epoch 35/50\n",
      "6400/6400 [==============================] - 0s 20us/step - loss: 0.0069 - acc: 0.9991 - val_loss: 0.0071 - val_acc: 0.9969\n",
      "Epoch 36/50\n",
      "6400/6400 [==============================] - 0s 17us/step - loss: 0.0070 - acc: 0.9991 - val_loss: 0.0067 - val_acc: 0.9969\n",
      "Epoch 37/50\n",
      "6400/6400 [==============================] - 0s 17us/step - loss: 0.0069 - acc: 0.9991 - val_loss: 0.0069 - val_acc: 0.9969\n",
      "Epoch 38/50\n",
      "6400/6400 [==============================] - 0s 20us/step - loss: 0.0069 - acc: 0.9991 - val_loss: 0.0068 - val_acc: 0.9969\n",
      "Epoch 39/50\n",
      "6400/6400 [==============================] - 0s 17us/step - loss: 0.0069 - acc: 0.9991 - val_loss: 0.0069 - val_acc: 0.9969\n",
      "Epoch 40/50\n",
      "6400/6400 [==============================] - 0s 17us/step - loss: 0.0069 - acc: 0.9991 - val_loss: 0.0069 - val_acc: 0.9969\n",
      "Epoch 41/50\n",
      "6400/6400 [==============================] - 0s 17us/step - loss: 0.0069 - acc: 0.9991 - val_loss: 0.0068 - val_acc: 0.9969\n",
      "Epoch 42/50\n",
      "6400/6400 [==============================] - 0s 20us/step - loss: 0.0069 - acc: 0.9991 - val_loss: 0.0070 - val_acc: 0.9969\n",
      "Epoch 43/50\n",
      "6400/6400 [==============================] - 0s 17us/step - loss: 0.0069 - acc: 0.9991 - val_loss: 0.0067 - val_acc: 0.9969\n",
      "Epoch 44/50\n",
      "6400/6400 [==============================] - 0s 20us/step - loss: 0.0069 - acc: 0.9991 - val_loss: 0.0069 - val_acc: 0.9969\n",
      "Epoch 45/50\n",
      "6400/6400 [==============================] - 0s 24us/step - loss: 0.0069 - acc: 0.9991 - val_loss: 0.0070 - val_acc: 0.9969\n",
      "Epoch 46/50\n",
      "6400/6400 [==============================] - 0s 24us/step - loss: 0.0069 - acc: 0.9991 - val_loss: 0.0068 - val_acc: 0.9969\n",
      "Epoch 47/50\n",
      "6400/6400 [==============================] - 0s 22us/step - loss: 0.0069 - acc: 0.9991 - val_loss: 0.0067 - val_acc: 0.9969\n",
      "Epoch 48/50\n",
      "6400/6400 [==============================] - 0s 24us/step - loss: 0.0068 - acc: 0.9991 - val_loss: 0.0068 - val_acc: 0.9969\n",
      "Epoch 49/50\n",
      "6400/6400 [==============================] - 0s 24us/step - loss: 0.0068 - acc: 0.9991 - val_loss: 0.0066 - val_acc: 0.9969\n",
      "Epoch 50/50\n",
      "6400/6400 [==============================] - 0s 20us/step - loss: 0.0068 - acc: 0.9991 - val_loss: 0.0067 - val_acc: 0.9969\n",
      "Wall time: 6.74 s\n"
     ]
    }
   ],
   "source": [
    "%%time\n",
    "# The autoencoder tries to fit the same value as its output than at its input\n",
    "history = autoencoder.fit(X, X,\n",
    "                epochs=50,\n",
    "                batch_size=256,\n",
    "                validation_split=.2,\n",
    "                verbose=1)"
   ]
  },
  {
   "cell_type": "markdown",
   "metadata": {},
   "source": [
    "The graph below shows a pretty standard loss curve over epochs. The accuracy curve on the other hand was more puzzling to me, since both training and validation accuracy are stuck at zero. Wrapping my head around it, I believe its because the reconstruction of the sample is not precise in an autoencoder. We don’t have an easy yes/no answer like we would have with, say, a binary classifier. Thus the loss is the metric that is of actual interest to us."
   ]
  },
  {
   "cell_type": "code",
   "execution_count": 158,
   "metadata": {},
   "outputs": [
    {
     "data": {
      "image/png": "[encoded data removed]",
      "text/plain": [
       "<matplotlib.figure.Figure at 0x264bb8ff898>"
      ]
     },
     "metadata": {},
     "output_type": "display_data"
    }
   ],
   "source": [
    "helpers.plot_history(history, 'Training');"
   ]
  },
  {
   "cell_type": "markdown",
   "metadata": {},
   "source": [
    "## Classification"
   ]
  },
  {
   "cell_type": "code",
   "execution_count": 159,
   "metadata": {},
   "outputs": [],
   "source": [
    "def classify_and_evaluate(X, y):\n",
    "    X_train, X_test, y_train, y_test = train_test_split(X, y, test_size=.2)\n",
    "    \n",
    "    clf = RandomForestClassifier()\n",
    "    clf.fit(X_train, y_train)\n",
    "\n",
    "    y_pred = clf.predict(X_test)\n",
    "\n",
    "    print(classification_report(y_test, y_pred, target_names=le.classes_))\n",
    "    \n",
    "    return clf.predict(X)"
   ]
  },
  {
   "cell_type": "markdown",
   "metadata": {},
   "source": [
    "### “Raw” classifier\n",
    "\n",
    "Before trying out our autoencoder, we simply try to classify our raw vectors."
   ]
  },
  {
   "cell_type": "code",
   "execution_count": 167,
   "metadata": {},
   "outputs": [
    {
     "name": "stdout",
     "output_type": "stream",
     "text": [
      "             precision    recall  f1-score   support\n",
      "\n",
      "  Economics       0.24      0.36      0.29       183\n",
      "Linguistics       0.49      0.46      0.47       227\n",
      " Literature       0.27      0.31      0.29       189\n",
      "       Math       0.50      0.49      0.50       194\n",
      "    Oceania       0.48      0.38      0.42       216\n",
      "   Politics       0.29      0.30      0.29       208\n",
      " Prehistory       0.40      0.38      0.39       182\n",
      "   Religion       0.34      0.26      0.30       201\n",
      "\n",
      "avg / total       0.38      0.37      0.37      1600\n",
      "\n"
     ]
    }
   ],
   "source": [
    "y_raw = classify_and_evaluate(X, y)"
   ]
  },
  {
   "cell_type": "markdown",
   "metadata": {},
   "source": [
    "### PCA\n",
    "\n",
    "For the comparison to be meaningful, we use the same dimensionality reduction as we did with the autoencoder."
   ]
  },
  {
   "cell_type": "code",
   "execution_count": 166,
   "metadata": {},
   "outputs": [
    {
     "name": "stdout",
     "output_type": "stream",
     "text": [
      "             precision    recall  f1-score   support\n",
      "\n",
      "  Economics       0.30      0.49      0.37       192\n",
      "Linguistics       0.50      0.51      0.50       215\n",
      " Literature       0.36      0.44      0.40       185\n",
      "       Math       0.40      0.44      0.42       193\n",
      "    Oceania       0.47      0.40      0.43       214\n",
      "   Politics       0.37      0.28      0.32       203\n",
      " Prehistory       0.43      0.34      0.38       189\n",
      "   Religion       0.37      0.25      0.30       209\n",
      "\n",
      "avg / total       0.40      0.39      0.39      1600\n",
      "\n"
     ]
    }
   ],
   "source": [
    "X_pca = PCA(n_components=LATENT_SPACE_DIM).fit_transform(X)\n",
    "y_pca = classify_and_evaluate(X_pca, y)"
   ]
  },
  {
   "cell_type": "markdown",
   "metadata": {},
   "source": [
    "### Latent space\n",
    "\n",
    "Now we can classify our pages using there autoencoded versions to see what we get."
   ]
  },
  {
   "cell_type": "code",
   "execution_count": 165,
   "metadata": {},
   "outputs": [
    {
     "name": "stdout",
     "output_type": "stream",
     "text": [
      "             precision    recall  f1-score   support\n",
      "\n",
      "  Economics       0.29      0.38      0.33       207\n",
      "Linguistics       0.43      0.50      0.46       203\n",
      " Literature       0.30      0.38      0.34       185\n",
      "       Math       0.44      0.46      0.45       190\n",
      "    Oceania       0.46      0.38      0.42       207\n",
      "   Politics       0.33      0.27      0.30       188\n",
      " Prehistory       0.54      0.41      0.47       223\n",
      "   Religion       0.38      0.34      0.36       197\n",
      "\n",
      "avg / total       0.40      0.39      0.39      1600\n",
      "\n"
     ]
    }
   ],
   "source": [
    "X_latent = encoder.predict(X)\n",
    "y_latent = classify_and_evaluate(X_latent, y)"
   ]
  },
  {
   "cell_type": "code",
   "execution_count": null,
   "metadata": {},
   "outputs": [],
   "source": []
  }
 ],
 "metadata": {
  "kernelspec": {
   "display_name": "Python 3",
   "language": "python",
   "name": "python3"
  },
  "language_info": {
   "codemirror_mode": {
    "name": "ipython",
    "version": 3
   },
   "file_extension": ".py",
   "mimetype": "text/x-python",
   "name": "python",
   "nbconvert_exporter": "python",
   "pygments_lexer": "ipython3",
   "version": "3.6.4"
  }
 },
 "nbformat": 4,
 "nbformat_minor": 2
}
