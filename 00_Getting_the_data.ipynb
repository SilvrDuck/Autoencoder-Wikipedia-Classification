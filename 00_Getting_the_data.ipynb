{
 "cells": [
  {
   "cell_type": "markdown",
   "metadata": {},
   "source": [
    "# 00 – Getting the data\n",
    "\n",
    "“Take N classes of wikipedia articles, for each class – 1000 articles.”"
   ]
  },
  {
   "cell_type": "code",
   "execution_count": 6,
   "metadata": {},
   "outputs": [],
   "source": [
    "import wikipedia as wp\n",
    "import pandas as pd\n",
    "\n",
    "from pathlib import Path\n",
    "from random import sample\n",
    "\n",
    "import helpers # some general functions for loading, writting and plotting stuff"
   ]
  },
  {
   "cell_type": "code",
   "execution_count": 8,
   "metadata": {},
   "outputs": [],
   "source": [
    "DATA_SIZE = 1000"
   ]
  },
  {
   "cell_type": "markdown",
   "metadata": {},
   "source": [
    "## Fetching the pages\n",
    "\n",
    "In this part we fetch the pages from wikipedia with there text and title."
   ]
  },
  {
   "cell_type": "code",
   "execution_count": 5,
   "metadata": {},
   "outputs": [],
   "source": [
    "# We did not want to go to complicated here, just download pages that respond to a query and some synonyms.\n",
    "queries = [\n",
    "    ('Math', ['Math', 'Algebra', 'Arithmetic', 'Mathematics']),\n",
    "    ('Politics', ['Politics', 'Government', 'Legislation', 'Polity']),\n",
    "    ('Oceania', ['Oceania', 'New Zealand', 'Australia', 'Oceanic']),\n",
    "    ('Linguistics', ['Linguistics', 'Language', 'Grammar', 'Syntax']),\n",
    "    ('Prehistory', ['Prehistory', 'Paleology', 'Paleontology']),\n",
    "    ('Religion', ['Religion', 'Christianism', 'Islamism']),\n",
    "    ('Economics', ['Economics', 'Finance', 'Business']),\n",
    "    ('Literature', ['Literature', 'Poetry', 'Novel']),\n",
    "]"
   ]
  },
  {
   "cell_type": "code",
   "execution_count": 9,
   "metadata": {},
   "outputs": [],
   "source": [
    "def robust_fetch(page): \n",
    "    '''Download a page, ignore errors.'''\n",
    "    try:\n",
    "        p = wp.page(page)\n",
    "    except:\n",
    "        # Sometimes wp.page() can raise exception on disambiambiguation pages or others.\n",
    "        # We do not care about them.\n",
    "        p = None\n",
    "    return p\n",
    "\n",
    "def query_to_pages(query, size=DATA_SIZE):\n",
    "    '''Return the titles of pages returned by a query.'''\n",
    "    pages = set()\n",
    "    pages.update(wp.search(query, results=size))\n",
    "    return pages\n",
    "\n",
    "def multiquery_to_pages(queries, size=DATA_SIZE):\n",
    "    '''Uses multiple queries to build a page list.'''\n",
    "    p = set()\n",
    "    for q in queries:\n",
    "        if len(p) < size:        \n",
    "            p |= query_to_pages(q, size)\n",
    "    return p\n",
    "\n",
    "def dataset_for_query(queries, size=DATA_SIZE):\n",
    "    '''Given the pages returned by the queries, fetches the pages.'''\n",
    "    pages = multiquery_to_pages(queries, size)\n",
    "    \n",
    "    p = []\n",
    "    for page in pages:\n",
    "        try:\n",
    "            t = robust_fetch(page)\n",
    "            p.append((t.title, t.content))\n",
    "        except:\n",
    "            pass\n",
    "    return p if len(p) < size else sample(p, size)\n",
    "        \n",
    "def datasets_for_queries(queries, size=DATA_SIZE):\n",
    "    '''Build a dataset given multiple categories and there associated queries.'''\n",
    "    return [(name, dataset_for_query(q, size)) for name, q in queries]"
   ]
  },
  {
   "cell_type": "code",
   "execution_count": 11,
   "metadata": {},
   "outputs": [
    {
     "name": "stderr",
     "output_type": "stream",
     "text": [
      "C:\\Users\\Thibault\\Anaconda3\\lib\\site-packages\\bs4\\__init__.py:181: UserWarning: No parser was explicitly specified, so I'm using the best available HTML parser for this system (\"lxml\"). This usually isn't a problem, but if you run this code on another system, or in a different virtual environment, it may use a different parser and behave differently.\n",
      "\n",
      "The code that caused this warning is on line 193 of the file C:\\Users\\Thibault\\Anaconda3\\lib\\runpy.py. To get rid of this warning, change code that looks like this:\n",
      "\n",
      " BeautifulSoup(YOUR_MARKUP})\n",
      "\n",
      "to this:\n",
      "\n",
      " BeautifulSoup(YOUR_MARKUP, \"lxml\")\n",
      "\n",
      "  markup_type=markup_type))\n"
     ]
    },
    {
     "name": "stdout",
     "output_type": "stream",
     "text": [
      "Wall time: 5h 43min 15s\n"
     ]
    }
   ],
   "source": [
    "%%time\n",
    "# Pretty slow process, just let it run overnight. \n",
    "datasets = datasets_for_queries(queries)"
   ]
  },
  {
   "cell_type": "markdown",
   "metadata": {},
   "source": [
    "## Preparing dataframe\n",
    "\n",
    "We want to make the dataset clean and ready to be used by our auto-encoder."
   ]
  },
  {
   "cell_type": "code",
   "execution_count": 12,
   "metadata": {},
   "outputs": [],
   "source": [
    "full_dataset = pd.DataFrame()\n",
    "\n",
    "for category in datasets:\n",
    "    df = pd.DataFrame(category[1])\n",
    "    df['2'] = category[0]\n",
    "    full_dataset = pd.concat([full_dataset, df])\n",
    "        \n",
    "full_dataset = full_dataset.reset_index(drop=True)\n",
    "full_dataset.columns = ['title', 'content', 'label']"
   ]
  },
  {
   "cell_type": "code",
   "execution_count": 16,
   "metadata": {},
   "outputs": [
    {
     "data": {
      "text/html": [
       "<div>\n",
       "<style scoped>\n",
       "    .dataframe tbody tr th:only-of-type {\n",
       "        vertical-align: middle;\n",
       "    }\n",
       "\n",
       "    .dataframe tbody tr th {\n",
       "        vertical-align: top;\n",
       "    }\n",
       "\n",
       "    .dataframe thead th {\n",
       "        text-align: right;\n",
       "    }\n",
       "</style>\n",
       "<table border=\"1\" class=\"dataframe\">\n",
       "  <thead>\n",
       "    <tr style=\"text-align: right;\">\n",
       "      <th></th>\n",
       "      <th>title</th>\n",
       "      <th>content</th>\n",
       "      <th>label</th>\n",
       "    </tr>\n",
       "  </thead>\n",
       "  <tbody>\n",
       "    <tr>\n",
       "      <th>2967</th>\n",
       "      <td>Oceania Women's Handball Champions Cup</td>\n",
       "      <td>The Oceania Handball Champions Cup is an inter...</td>\n",
       "      <td>Oceania</td>\n",
       "    </tr>\n",
       "    <tr>\n",
       "      <th>1265</th>\n",
       "      <td>Political party</td>\n",
       "      <td>A political party is a group of people who com...</td>\n",
       "      <td>Politics</td>\n",
       "    </tr>\n",
       "    <tr>\n",
       "      <th>4599</th>\n",
       "      <td>Koparion</td>\n",
       "      <td>Koparion is a genus of small coelurosaurian th...</td>\n",
       "      <td>Prehistory</td>\n",
       "    </tr>\n",
       "    <tr>\n",
       "      <th>591</th>\n",
       "      <td>MPIR (mathematics software)</td>\n",
       "      <td>Multiple Precision Integers and Rationals (MPI...</td>\n",
       "      <td>Math</td>\n",
       "    </tr>\n",
       "  </tbody>\n",
       "</table>\n",
       "</div>"
      ],
      "text/plain": [
       "                                       title  \\\n",
       "2967  Oceania Women's Handball Champions Cup   \n",
       "1265                         Political party   \n",
       "4599                                Koparion   \n",
       "591              MPIR (mathematics software)   \n",
       "\n",
       "                                                content       label  \n",
       "2967  The Oceania Handball Champions Cup is an inter...     Oceania  \n",
       "1265  A political party is a group of people who com...    Politics  \n",
       "4599  Koparion is a genus of small coelurosaurian th...  Prehistory  \n",
       "591   Multiple Precision Integers and Rationals (MPI...        Math  "
      ]
     },
     "execution_count": 16,
     "metadata": {},
     "output_type": "execute_result"
    }
   ],
   "source": [
    "full_dataset.sample(4)"
   ]
  },
  {
   "cell_type": "code",
   "execution_count": 4,
   "metadata": {},
   "outputs": [],
   "source": [
    "# Save the data in a pickle file for future usage.\n",
    "helpers.write_pickle(full_dataset, 'full_dataset')"
   ]
  }
 ],
 "metadata": {
  "kernelspec": {
   "display_name": "Python 3",
   "language": "python",
   "name": "python3"
  },
  "language_info": {
   "codemirror_mode": {
    "name": "ipython",
    "version": 3
   },
   "file_extension": ".py",
   "mimetype": "text/x-python",
   "name": "python",
   "nbconvert_exporter": "python",
   "pygments_lexer": "ipython3",
   "version": "3.6.4"
  }
 },
 "nbformat": 4,
 "nbformat_minor": 2
}
